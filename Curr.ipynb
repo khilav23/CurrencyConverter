{
  "nbformat": 4,
  "nbformat_minor": 0,
  "metadata": {
    "colab": {
      "provenance": []
    },
    "kernelspec": {
      "name": "python3",
      "display_name": "Python 3"
    },
    "language_info": {
      "name": "python"
    }
  },
  "cells": [
    {
      "cell_type": "markdown",
      "source": [
        "# Pre-Requisites"
      ],
      "metadata": {
        "id": "Yf6tOUFBVT0d"
      }
    },
    {
      "cell_type": "code",
      "source": [
        "import pandas as pd\n",
        "import numpy as np\n",
        "import requests\n",
        "import pandas as pd\n",
        "import json"
      ],
      "metadata": {
        "id": "4ntkSUWFVTOg"
      },
      "execution_count": 2,
      "outputs": []
    },
    {
      "cell_type": "markdown",
      "source": [
        "### A Python Program to convert Currency into any other Currency using real-time rates via API\n"
      ],
      "metadata": {
        "id": "6r220E_dV4po"
      }
    },
    {
      "cell_type": "code",
      "execution_count": 3,
      "metadata": {
        "colab": {
          "base_uri": "https://localhost:8080/"
        },
        "id": "m-y00Vd0U-lS",
        "outputId": "e6f62161-959e-4ae9-c0df-9e1f3922d258"
      },
      "outputs": [
        {
          "output_type": "stream",
          "name": "stdout",
          "text": [
            "Convert from: USD\n",
            "Convert to: INR\n",
            "Amount: 5\n",
            "200\n",
            "416.0675 INR\n"
          ]
        }
      ],
      "source": [
        "# Prompt the user to enter the base currency code, the target currency code & the amount to convert\n",
        "base = str(input(\"Convert from: \"))\n",
        "to = str(input(\"Convert to: \"))\n",
        "amount = str((input(\"Amount: \")))\n",
        "\n",
        "# The API URL with the provided input values\n",
        "url = \"https://v6.exchangerate-api.com/v6/299e0270fa900cff69e62e79/pair/\" + base + \"/\" + to + \"/\" + amount\n",
        "\n",
        "# GET request to the ExchangeRate API using the constructed URL\n",
        "response = requests.get(url)\n",
        "\n",
        "# Print the HTTP status code of the API response\n",
        "print(response.status_code)\n",
        "\n",
        "# Parse the JSON data from the API response & print the results\n",
        "data = response.json()\n",
        "print(data['conversion_result'], to)"
      ]
    }
  ]
}